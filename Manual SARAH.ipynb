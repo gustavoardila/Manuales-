{
 "cells": [
  {
   "cell_type": "markdown",
   "id": "6cb6f22c",
   "metadata": {},
   "source": [
    "Universidad de los Andes\n",
    "\n",
    "Grupo de Fenomenología de Partículas. Departamento de Física\n",
    "\n",
    "Manual de implementación de modelos usando SARAH"
   ]
  },
  {
   "cell_type": "markdown",
   "id": "7b73860a",
   "metadata": {},
   "source": [
    "En la física de altas energías se requiere, dado el alto número de procesos posibles, utilizar herramientas computacionales para calcular las variables asociadas para analizar la dinámica de estos sistemas. Una de estas herramientas se conoce como SARAH, la cual es un paquete de Mathematica y que tiene distintos tipos de output. En este manual vamos a explicar como descargar, usar e implementar modelos. \n"
   ]
  },
  {
   "cell_type": "markdown",
   "id": "007b5c33",
   "metadata": {},
   "source": [
    "Lo primero que tenemos que hacer es crear un folder donde vamos a descargar la versión de SARAH que queremos. Para ello usamos el comando usual, mkdir, en la terminal de nuestro pc como se muestra en pantalla."
   ]
  },
  {
   "cell_type": "markdown",
   "id": "afe782ff",
   "metadata": {},
   "source": []
  },
  {
   "cell_type": "markdown",
   "id": "8318984c",
   "metadata": {},
   "source": [
    "Posterior a esto, accedemos a la URL http://sarah.hepforge.org/ y buscamos la última versión. Para descargarla podemos hacer dos cosas: \n",
    "\n",
    "1. Descargar a la fuerza el tar desde la página y moverlo al folder.\n",
    "2. Acceder al folder de instalación desde la terminal y usar wget.\n"
   ]
  },
  {
   "cell_type": "markdown",
   "id": "15945df8",
   "metadata": {},
   "source": []
  },
  {
   "cell_type": "markdown",
   "id": "e5aa1722",
   "metadata": {},
   "source": [
    "Habiendo hecho esto, descomprimimos usando tar zxvf como se muestra abajo. Esto descargará el paquete completo y los modelos implementados en la base de datos estandar de SARAH."
   ]
  },
  {
   "cell_type": "code",
   "execution_count": null,
   "id": "d54866c4",
   "metadata": {},
   "outputs": [],
   "source": []
  },
  {
   "cell_type": "markdown",
   "id": "3d321c0a",
   "metadata": {},
   "source": [
    "Con el paquete descargado, podemos empezar a escribir modelos. Para esto, necesitamos de tres (cuatro para modelos susy) notebooks de Mathematica. Uno para definir el archivo central del modelo, otro para los parámetros y otro para las partículas. \n",
    "Empezaremos con el caso del cuaderno general del modelo. "
   ]
  },
  {
   "cell_type": "code",
   "execution_count": null,
   "id": "05a21e3c",
   "metadata": {},
   "outputs": [],
   "source": []
  },
  {
   "cell_type": "code",
   "execution_count": null,
   "id": "1cb32a5c",
   "metadata": {},
   "outputs": [],
   "source": []
  },
  {
   "cell_type": "code",
   "execution_count": null,
   "id": "466283c8",
   "metadata": {},
   "outputs": [],
   "source": []
  },
  {
   "cell_type": "code",
   "execution_count": null,
   "id": "83cf2b0a",
   "metadata": {},
   "outputs": [],
   "source": []
  },
  {
   "cell_type": "code",
   "execution_count": null,
   "id": "555d4ee5",
   "metadata": {},
   "outputs": [],
   "source": []
  },
  {
   "cell_type": "code",
   "execution_count": null,
   "id": "23e0565e",
   "metadata": {},
   "outputs": [],
   "source": []
  },
  {
   "cell_type": "code",
   "execution_count": null,
   "id": "191aaf9d",
   "metadata": {},
   "outputs": [],
   "source": []
  }
 ],
 "metadata": {
  "kernelspec": {
   "display_name": "Python 3",
   "language": "python",
   "name": "python3"
  },
  "language_info": {
   "codemirror_mode": {
    "name": "ipython",
    "version": 3
   },
   "file_extension": ".py",
   "mimetype": "text/x-python",
   "name": "python",
   "nbconvert_exporter": "python",
   "pygments_lexer": "ipython3",
   "version": "3.8.10"
  }
 },
 "nbformat": 4,
 "nbformat_minor": 5
}
